{
 "cells": [
  {
   "cell_type": "code",
   "execution_count": 12,
   "id": "13778d77",
   "metadata": {
    "_kg_hide-input": true,
    "papermill": {
     "duration": 2.84056,
     "end_time": "2023-07-12T08:57:06.131975",
     "exception": false,
     "start_time": "2023-07-12T08:57:03.291415",
     "status": "completed"
    },
    "tags": []
   },
   "outputs": [
    {
     "data": {
      "text/html": [
       "\n",
       "    <style>\n",
       "        .section {\n",
       "            color:#33A1C9;\n",
       "            font-size:20px;\n",
       "            font-weight: bold;\n",
       "            padding-top:15px;\n",
       "        }\n",
       "        .sub_section {\n",
       "            color:#f1c40f;\n",
       "            font-size:16px;\n",
       "            font-weight: bold;\n",
       "            padding-top:10px;\n",
       "        }\n",
       "        .insight {\n",
       "            color:#C70039;\n",
       "            font-size:14px;\n",
       "            font-weight: bold;\n",
       "        }\n",
       "        .data-insight {\n",
       "            background-color: #f9f9f9;\n",
       "            border-left: 4px solid #C70039;\n",
       "            padding: 8px;\n",
       "            margin-top: 5px;\n",
       "            font-weight: normal;\n",
       "        }\n",
       "        .data-insight span{\n",
       "            font-weight: bold;\n",
       "            display: block;\n",
       "        }\n",
       "        .bullet {\n",
       "            list-style-type: circle;\n",
       "        }\n",
       "        ul{\n",
       "            margin:0px;\n",
       "            display: contents;\n",
       "            list-style-type: square;\n",
       "        }\n",
       "    </style>\n",
       "    "
      ],
      "text/plain": [
       "<IPython.core.display.HTML object>"
      ]
     },
     "execution_count": 12,
     "metadata": {},
     "output_type": "execute_result"
    }
   ],
   "source": [
    "import pandas as pd\n",
    "import matplotlib.pyplot as plt\n",
    "import seaborn as sns\n",
    "from textblob import TextBlob\n",
    "from IPython.core.display import HTML\n",
    "from random import randint\n",
    "\n",
    "\n",
    "# 定义一个函数来呈现不同样式的元素\n",
    "def render_elem(values, style):\n",
    "    if style == \"section\":\n",
    "        # 显示一个带有“section”样式的HTML块\n",
    "        display(HTML(f'<div class=\"section\">{values}</div>'))\n",
    "    html = \"\"\n",
    "    flag = False\n",
    "    for value in values:\n",
    "        if style == \"insight\":\n",
    "            # 显示一个带有“insight”样式的项目\n",
    "            html += f'<ul class=\"bullet\"><li class=\"insight\"> - {value}</li></ul>'\n",
    "        if style == \"data-insight\":\n",
    "            if \":\" in value:\n",
    "                flag = True\n",
    "                # 显示一个带有“data-insight”样式的项目，如果值包含冒号，则分为标签和内容\n",
    "                html += f'<ul class=\"bullet\"><li class=\"data-insight\"><span>{value.split(\":\")[0]}</span>{value.split(\":\")[1]}</li></ul>'\n",
    "            else:\n",
    "                html += f'<ul class=\"bullet\"><li class=\"data-insight\">{value}</li></ul>'\n",
    "\n",
    "    if flag == True:\n",
    "        # 如果flag为True，则在项目之间插入水平线\n",
    "        html += \"<hr>\"\n",
    "    display(HTML(html))\n",
    "\n",
    "\n",
    "# 定义一个CSS样式函数\n",
    "def css_styling():\n",
    "    styles = \"\"\"\n",
    "    <style>\n",
    "        .section {\n",
    "            color:#33A1C9;\n",
    "            font-size:20px;\n",
    "            font-weight: bold;\n",
    "            padding-top:15px;\n",
    "        }\n",
    "        .sub_section {\n",
    "            color:#f1c40f;\n",
    "            font-size:16px;\n",
    "            font-weight: bold;\n",
    "            padding-top:10px;\n",
    "        }\n",
    "        .insight {\n",
    "            color:#C70039;\n",
    "            font-size:14px;\n",
    "            font-weight: bold;\n",
    "        }\n",
    "        .data-insight {\n",
    "            background-color: #f9f9f9;\n",
    "            border-left: 4px solid #C70039;\n",
    "            padding: 8px;\n",
    "            margin-top: 5px;\n",
    "            font-weight: normal;\n",
    "        }\n",
    "        .data-insight span{\n",
    "            font-weight: bold;\n",
    "            display: block;\n",
    "        }\n",
    "        .bullet {\n",
    "            list-style-type: circle;\n",
    "        }\n",
    "        ul{\n",
    "            margin:0px;\n",
    "            display: contents;\n",
    "            list-style-type: square;\n",
    "        }\n",
    "    </style>\n",
    "    \"\"\"\n",
    "    return HTML(styles)\n",
    "\n",
    "\n",
    "# 应用CSS样式\n",
    "css_styling()"
   ]
  },
  {
   "cell_type": "code",
   "execution_count": 13,
   "id": "7cbef031",
   "metadata": {
    "_kg_hide-input": true,
    "papermill": {
     "duration": 0.02449,
     "end_time": "2023-07-12T08:57:06.162315",
     "exception": false,
     "start_time": "2023-07-12T08:57:06.137825",
     "status": "completed"
    },
    "tags": []
   },
   "outputs": [
    {
     "data": {
      "text/html": [
       "<div class=\"section\">Introduction</div>"
      ],
      "text/plain": [
       "<IPython.core.display.HTML object>"
      ]
     },
     "metadata": {},
     "output_type": "display_data"
    },
    {
     "data": {
      "text/html": [],
      "text/plain": [
       "<IPython.core.display.HTML object>"
      ]
     },
     "metadata": {},
     "output_type": "display_data"
    },
    {
     "data": {
      "text/html": [
       "<ul class=\"bullet\"><li class=\"data-insight\">It's Multiple-choice Question  answer competition. The dataset generated by a large language model (LLM), specifically GPT-3.5, where it was asked to write a multiple-choice question based on snippets of text on a range of scientific topics. The objective of the competition this dataset is used for is to predict the most probable answers to the questions written by the LLM.</li></ul>"
      ],
      "text/plain": [
       "<IPython.core.display.HTML object>"
      ]
     },
     "metadata": {},
     "output_type": "display_data"
    }
   ],
   "source": [
    "render_elem(\"Introduction\", \"section\")\n",
    "# 这是一个多选题答案竞赛。该数据集由一个大型语言模型（LLM），具体来说是GPT-3.5生成，被要求根据各种科学主题的文本片段编写多选题。使用此数据集的竞赛目标是预测由LLM编写的问题的最可能答案。\n",
    "render_elem(\n",
    "    [\n",
    "        \"It's Multiple-choice Question  answer competition. The dataset generated by a large language model (LLM), specifically GPT-3.5, where it was asked to write a multiple-choice question based on snippets of text on a range of scientific topics. The objective of the competition this dataset is used for is to predict the most probable answers to the questions written by the LLM.\"\n",
    "    ],\n",
    "    \"data-insight\",\n",
    ")"
   ]
  },
  {
   "cell_type": "code",
   "execution_count": 14,
   "id": "d31728b6",
   "metadata": {
    "_kg_hide-input": true,
    "papermill": {
     "duration": 0.064361,
     "end_time": "2023-07-12T08:57:06.232691",
     "exception": false,
     "start_time": "2023-07-12T08:57:06.168330",
     "status": "completed"
    },
    "tags": []
   },
   "outputs": [
    {
     "data": {
      "text/html": [
       "<div class=\"section\">Loading the Dataset</div>"
      ],
      "text/plain": [
       "<IPython.core.display.HTML object>"
      ]
     },
     "metadata": {},
     "output_type": "display_data"
    },
    {
     "data": {
      "text/html": [],
      "text/plain": [
       "<IPython.core.display.HTML object>"
      ]
     },
     "metadata": {},
     "output_type": "display_data"
    },
    {
     "data": {
      "text/html": [
       "<div>\n",
       "<style scoped>\n",
       "    .dataframe tbody tr th:only-of-type {\n",
       "        vertical-align: middle;\n",
       "    }\n",
       "\n",
       "    .dataframe tbody tr th {\n",
       "        vertical-align: top;\n",
       "    }\n",
       "\n",
       "    .dataframe thead th {\n",
       "        text-align: right;\n",
       "    }\n",
       "</style>\n",
       "<table border=\"1\" class=\"dataframe\">\n",
       "  <thead>\n",
       "    <tr style=\"text-align: right;\">\n",
       "      <th></th>\n",
       "      <th>id</th>\n",
       "      <th>prompt</th>\n",
       "      <th>A</th>\n",
       "      <th>B</th>\n",
       "      <th>C</th>\n",
       "      <th>D</th>\n",
       "      <th>E</th>\n",
       "      <th>answer</th>\n",
       "    </tr>\n",
       "  </thead>\n",
       "  <tbody>\n",
       "    <tr>\n",
       "      <th>0</th>\n",
       "      <td>0</td>\n",
       "      <td>Which of the following statements accurately d...</td>\n",
       "      <td>MOND is a theory that reduces the observed mis...</td>\n",
       "      <td>MOND is a theory that increases the discrepanc...</td>\n",
       "      <td>MOND is a theory that explains the missing bar...</td>\n",
       "      <td>MOND is a theory that reduces the discrepancy ...</td>\n",
       "      <td>MOND is a theory that eliminates the observed ...</td>\n",
       "      <td>D</td>\n",
       "    </tr>\n",
       "    <tr>\n",
       "      <th>1</th>\n",
       "      <td>1</td>\n",
       "      <td>Which of the following is an accurate definiti...</td>\n",
       "      <td>Dynamic scaling refers to the evolution of sel...</td>\n",
       "      <td>Dynamic scaling refers to the non-evolution of...</td>\n",
       "      <td>Dynamic scaling refers to the evolution of sel...</td>\n",
       "      <td>Dynamic scaling refers to the non-evolution of...</td>\n",
       "      <td>Dynamic scaling refers to the evolution of sel...</td>\n",
       "      <td>A</td>\n",
       "    </tr>\n",
       "    <tr>\n",
       "      <th>2</th>\n",
       "      <td>2</td>\n",
       "      <td>Which of the following statements accurately d...</td>\n",
       "      <td>The triskeles symbol was reconstructed as a fe...</td>\n",
       "      <td>The triskeles symbol is a representation of th...</td>\n",
       "      <td>The triskeles symbol is a representation of a ...</td>\n",
       "      <td>The triskeles symbol represents three interloc...</td>\n",
       "      <td>The triskeles symbol is a representation of th...</td>\n",
       "      <td>A</td>\n",
       "    </tr>\n",
       "    <tr>\n",
       "      <th>3</th>\n",
       "      <td>3</td>\n",
       "      <td>What is the significance of regularization in ...</td>\n",
       "      <td>Regularizing the mass-energy of an electron wi...</td>\n",
       "      <td>Regularizing the mass-energy of an electron wi...</td>\n",
       "      <td>Regularizing the mass-energy of an electron wi...</td>\n",
       "      <td>Regularizing the mass-energy of an electron wi...</td>\n",
       "      <td>Regularizing the mass-energy of an electron wi...</td>\n",
       "      <td>C</td>\n",
       "    </tr>\n",
       "    <tr>\n",
       "      <th>4</th>\n",
       "      <td>4</td>\n",
       "      <td>Which of the following statements accurately d...</td>\n",
       "      <td>The angular spacing of features in the diffrac...</td>\n",
       "      <td>The angular spacing of features in the diffrac...</td>\n",
       "      <td>The angular spacing of features in the diffrac...</td>\n",
       "      <td>The angular spacing of features in the diffrac...</td>\n",
       "      <td>The angular spacing of features in the diffrac...</td>\n",
       "      <td>D</td>\n",
       "    </tr>\n",
       "  </tbody>\n",
       "</table>\n",
       "</div>"
      ],
      "text/plain": [
       "   id                                             prompt  \\\n",
       "0   0  Which of the following statements accurately d...   \n",
       "1   1  Which of the following is an accurate definiti...   \n",
       "2   2  Which of the following statements accurately d...   \n",
       "3   3  What is the significance of regularization in ...   \n",
       "4   4  Which of the following statements accurately d...   \n",
       "\n",
       "                                                   A  \\\n",
       "0  MOND is a theory that reduces the observed mis...   \n",
       "1  Dynamic scaling refers to the evolution of sel...   \n",
       "2  The triskeles symbol was reconstructed as a fe...   \n",
       "3  Regularizing the mass-energy of an electron wi...   \n",
       "4  The angular spacing of features in the diffrac...   \n",
       "\n",
       "                                                   B  \\\n",
       "0  MOND is a theory that increases the discrepanc...   \n",
       "1  Dynamic scaling refers to the non-evolution of...   \n",
       "2  The triskeles symbol is a representation of th...   \n",
       "3  Regularizing the mass-energy of an electron wi...   \n",
       "4  The angular spacing of features in the diffrac...   \n",
       "\n",
       "                                                   C  \\\n",
       "0  MOND is a theory that explains the missing bar...   \n",
       "1  Dynamic scaling refers to the evolution of sel...   \n",
       "2  The triskeles symbol is a representation of a ...   \n",
       "3  Regularizing the mass-energy of an electron wi...   \n",
       "4  The angular spacing of features in the diffrac...   \n",
       "\n",
       "                                                   D  \\\n",
       "0  MOND is a theory that reduces the discrepancy ...   \n",
       "1  Dynamic scaling refers to the non-evolution of...   \n",
       "2  The triskeles symbol represents three interloc...   \n",
       "3  Regularizing the mass-energy of an electron wi...   \n",
       "4  The angular spacing of features in the diffrac...   \n",
       "\n",
       "                                                   E answer  \n",
       "0  MOND is a theory that eliminates the observed ...      D  \n",
       "1  Dynamic scaling refers to the evolution of sel...      A  \n",
       "2  The triskeles symbol is a representation of th...      A  \n",
       "3  Regularizing the mass-energy of an electron wi...      C  \n",
       "4  The angular spacing of features in the diffrac...      D  "
      ]
     },
     "execution_count": 14,
     "metadata": {},
     "output_type": "execute_result"
    }
   ],
   "source": [
    "render_elem(\"Loading the Dataset\", \"section\")\n",
    "data = pd.read_csv(\"./train.csv\")\n",
    "data.head()"
   ]
  },
  {
   "cell_type": "code",
   "execution_count": 4,
   "id": "ae2b6dcd",
   "metadata": {
    "_kg_hide-input": true,
    "papermill": {
     "duration": 0.022404,
     "end_time": "2023-07-12T08:57:06.261733",
     "exception": false,
     "start_time": "2023-07-12T08:57:06.239329",
     "status": "completed"
    },
    "tags": []
   },
   "outputs": [
    {
     "data": {
      "text/html": [
       "<ul class=\"bullet\"><li class=\"data-insight\"><span>ID</span> ID of the question</li></ul><ul class=\"bullet\"><li class=\"data-insight\"><span>prompt</span> The question being asked.</li></ul><ul class=\"bullet\"><li class=\"data-insight\"><span>A to E</span> These are the possible answers to the question.</li></ul><ul class=\"bullet\"><li class=\"data-insight\"><span>answer</span> This column represents the correct answer to the question.</li></ul><hr>"
      ],
      "text/plain": [
       "<IPython.core.display.HTML object>"
      ]
     },
     "metadata": {},
     "output_type": "display_data"
    },
    {
     "data": {
      "text/html": [
       "<ul class=\"bullet\"><li class=\"insight\"> - Out of 5 options A to E, we need to Predict 3 options i.e need to eliminate 2 options is enough</li></ul><ul class=\"bullet\"><li class=\"insight\"> - As our metric for the competition is Mean Average Precision @ 3 (MAP@3)</li></ul>"
      ],
      "text/plain": [
       "<IPython.core.display.HTML object>"
      ]
     },
     "metadata": {},
     "output_type": "display_data"
    }
   ],
   "source": [
    "render_elem(\n",
    "    [\n",
    "        \"ID: ID of the question\",\n",
    "        \"prompt: The question being asked.\",\n",
    "        \"A to E: These are the possible answers to the question.\",\n",
    "        \"answer: This column represents the correct answer to the question.\",\n",
    "    ],\n",
    "    \"data-insight\",\n",
    ")\n",
    "render_elem(\n",
    "    [\n",
    "        \"Out of 5 options A to E, we need to Predict 3 options i.e need to eliminate 2 options is enough\",\n",
    "        \"As our metric for the competition is Mean Average Precision @ 3 (MAP@3)\",\n",
    "    ],\n",
    "    \"insight\",\n",
    ")"
   ]
  },
  {
   "cell_type": "markdown",
   "id": "081807df-e0bf-4c81-9f26-e80e172b8cd5",
   "metadata": {},
   "source": [
    "- 在5个选项A到E中，我们需要预测3个选项，即需要消除2个选项就足够了。\n",
    "- 因为我们竞赛的度量标准是平均精度均值@3（MAP@3）。\n",
    "ID\n",
    "问题的ID\n",
    "提示\n",
    "被提出的问题。\n",
    "A到E\n",
    "这些是问题的可能答案。\n",
    "答案\n",
    "这一列代表问题的正确答案。"
   ]
  },
  {
   "cell_type": "code",
   "execution_count": 15,
   "id": "6411331b",
   "metadata": {
    "papermill": {
     "duration": 0.033601,
     "end_time": "2023-07-12T08:57:06.302118",
     "exception": false,
     "start_time": "2023-07-12T08:57:06.268517",
     "status": "completed"
    },
    "tags": []
   },
   "outputs": [
    {
     "data": {
      "text/html": [
       "<div class=\"section\">Train Samples</div>"
      ],
      "text/plain": [
       "<IPython.core.display.HTML object>"
      ]
     },
     "metadata": {},
     "output_type": "display_data"
    },
    {
     "data": {
      "text/html": [],
      "text/plain": [
       "<IPython.core.display.HTML object>"
      ]
     },
     "metadata": {},
     "output_type": "display_data"
    },
    {
     "data": {
      "text/html": [
       "<ul class=\"bullet\"><li class=\"data-insight\"><span>id</span> 7</li></ul><ul class=\"bullet\"><li class=\"data-insight\"><span>prompt</span> Which of the following statements accurately describes the blocking temperature of an antiferromagnetic layer in a spin valve?</li></ul><ul class=\"bullet\"><li class=\"data-insight\"><span>A</span> The blocking temperature of an antiferromagnetic layer in a spin valve is the temperature at which the magnetization of the ferromagnetic layer becomes aligned with the magnetic field. The blocking temperature is typically higher than the Néel temperature.</li></ul><ul class=\"bullet\"><li class=\"data-insight\"><span>B</span> The blocking temperature of an antiferromagnetic layer in a spin valve is the temperature below which the layer loses its ability to \"pin\" the magnetization direction of an adjacent ferromagnetic layer. The blocking temperature is typically higher than the Néel temperature.</li></ul><ul class=\"bullet\"><li class=\"data-insight\"><span>C</span> The blocking temperature of an antiferromagnetic layer in a spin valve is the temperature at which the ferromagnetic layer becomes completely demagnetized. The blocking temperature is typically higher than the Néel temperature.</li></ul><ul class=\"bullet\"><li class=\"data-insight\"><span>D</span> The blocking temperature of an antiferromagnetic layer in a spin valve is the temperature at or above which the layer ceases to prevent the orientation of an adjacent ferromagnetic layer. The blocking temperature is typically lower than the Néel temperature.</li></ul><ul class=\"bullet\"><li class=\"data-insight\"><span>E</span> The blocking temperature of an antiferromagnetic layer in a spin valve is the temperature at which the ferromagnetic layer loses its ability to \"pin\" the magnetization direction of an adjacent antiferromagnetic layer. The blocking temperature is typically higher than the Néel temperature.</li></ul><ul class=\"bullet\"><li class=\"data-insight\"><span>answer</span> D</li></ul><hr>"
      ],
      "text/plain": [
       "<IPython.core.display.HTML object>"
      ]
     },
     "metadata": {},
     "output_type": "display_data"
    },
    {
     "data": {
      "text/html": [
       "<ul class=\"bullet\"><li class=\"data-insight\"><span>id</span> 183</li></ul><ul class=\"bullet\"><li class=\"data-insight\"><span>prompt</span> Which of the following statements accurately describes the characteristics of gravitational waves?</li></ul><ul class=\"bullet\"><li class=\"data-insight\"><span>A</span> Gravitational waves have an amplitude denoted by h, which represents the size of the wave. The amplitude varies with time according to Newton's quadrupole formula. Gravitational waves also have a frequency denoted by f, which is the frequency of the wave's oscillation, and a wavelength denoted by λ, which is the distance between points of minimum stretch or squeeze.</li></ul><ul class=\"bullet\"><li class=\"data-insight\"><span>B</span> Gravitational waves have an amplitude denoted by λ, which represents the distance between points of maximum stretch or squeeze. The amplitude varies with time according to Einstein's quadrupole formula. Gravitational waves also have a frequency denoted by h, which is the size of the wave, and a wavelength denoted by f, which is the frequency of the wave's oscillation.</li></ul><ul class=\"bullet\"><li class=\"data-insight\"><span>C</span> Gravitational waves have an amplitude denoted by h, which represents the size of the wave. The amplitude varies with time according to Einstein's quadrupole formula. Gravitational waves also have a frequency denoted by f, which is the frequency of the wave's oscillation, and a wavelength denoted by λ, which is the distance between points of maximum stretch or squeeze.</li></ul><ul class=\"bullet\"><li class=\"data-insight\"><span>D</span> Gravitational waves have an amplitude denoted by f, which represents the frequency of the wave's oscillation. The amplitude varies with time according to Einstein's quadrupole formula. Gravitational waves also have a frequency denoted by h, which is the size of the wave, and a wavelength denoted by λ, which is the distance between points of maximum stretch or squeeze.</li></ul><ul class=\"bullet\"><li class=\"data-insight\"><span>E</span> Gravitational waves have an amplitude denoted by f, which represents the frequency of the wave's oscillation. The amplitude varies with time according to Newton's quadrupole formula. Gravitational waves also have a frequency denoted by h, which is the size of the wave, and a wavelength denoted by λ, which is the distance between points of minimum stretch or squeeze.</li></ul><ul class=\"bullet\"><li class=\"data-insight\"><span>answer</span> C</li></ul><hr>"
      ],
      "text/plain": [
       "<IPython.core.display.HTML object>"
      ]
     },
     "metadata": {},
     "output_type": "display_data"
    },
    {
     "data": {
      "text/html": [
       "<ul class=\"bullet\"><li class=\"data-insight\"><span>id</span> 72</li></ul><ul class=\"bullet\"><li class=\"data-insight\"><span>prompt</span> What is a pycnometer?</li></ul><ul class=\"bullet\"><li class=\"data-insight\"><span>A</span> A device used to measure the density of a gas.</li></ul><ul class=\"bullet\"><li class=\"data-insight\"><span>B</span> A device used to measure the mass of a liquid.</li></ul><ul class=\"bullet\"><li class=\"data-insight\"><span>C</span> A device used to measure the volume of a gas.</li></ul><ul class=\"bullet\"><li class=\"data-insight\"><span>D</span> A device used to determine the density of a liquid.</li></ul><ul class=\"bullet\"><li class=\"data-insight\"><span>E</span> A device used to determine the volume of a liquid.</li></ul><ul class=\"bullet\"><li class=\"data-insight\"><span>answer</span> D</li></ul><hr>"
      ],
      "text/plain": [
       "<IPython.core.display.HTML object>"
      ]
     },
     "metadata": {},
     "output_type": "display_data"
    }
   ],
   "source": [
    "render_elem(\"Train Samples\", \"section\")\n",
    "for _ in range(0, 3):\n",
    "    index = randint(0, len(data))\n",
    "    sample = [\n",
    "        f\"{k}: {v[0]}\"\n",
    "        for k, v in data[index : index + 1].reset_index(drop=True).to_dict().items()\n",
    "    ]\n",
    "    render_elem(sample, \"data-insight\")"
   ]
  },
  {
   "cell_type": "code",
   "execution_count": 16,
   "id": "6741bb9d",
   "metadata": {
    "_kg_hide-input": true,
    "papermill": {
     "duration": 0.370439,
     "end_time": "2023-07-12T08:57:06.681799",
     "exception": false,
     "start_time": "2023-07-12T08:57:06.311360",
     "status": "completed"
    },
    "tags": []
   },
   "outputs": [
    {
     "data": {
      "text/html": [
       "<div class=\"section\">Distribution of the correct answers (A, B, C, D, E) - Answers</div>"
      ],
      "text/plain": [
       "<IPython.core.display.HTML object>"
      ]
     },
     "metadata": {},
     "output_type": "display_data"
    },
    {
     "data": {
      "text/html": [],
      "text/plain": [
       "<IPython.core.display.HTML object>"
      ]
     },
     "metadata": {},
     "output_type": "display_data"
    },
    {
     "data": {
      "image/png": "[encoded data removed]",
      "text/plain": [
       "<Figure size 800x600 with 1 Axes>"
      ]
     },
     "metadata": {},
     "output_type": "display_data"
    },
    {
     "data": {
      "text/html": [
       "<ul class=\"bullet\"><li class=\"insight\"> - The distribution is almost uniform and balanced</li></ul>"
      ],
      "text/plain": [
       "<IPython.core.display.HTML object>"
      ]
     },
     "metadata": {},
     "output_type": "display_data"
    }
   ],
   "source": [
    "render_elem(\"Distribution of the correct answers (A, B, C, D, E) - Answers\", \"section\")\n",
    "plt.figure(figsize=(8, 6))\n",
    "sns.countplot(x=\"answer\", data=data, order=[\"A\", \"B\", \"C\", \"D\", \"E\"])\n",
    "plt.title(\"Distribution of Correct Answers\")\n",
    "plt.xlabel(\"Answer\")\n",
    "plt.ylabel(\"Count\")\n",
    "plt.show()\n",
    "render_elem([\"The distribution is almost uniform and balanced\"], \"insight\")\n",
    "# - 分布几乎是均匀和平衡的。"
   ]
  },
  {
   "cell_type": "code",
   "execution_count": 18,
   "id": "8822cb5d",
   "metadata": {
    "_kg_hide-input": true,
    "papermill": {
     "duration": 0.069619,
     "end_time": "2023-07-12T08:57:06.759755",
     "exception": false,
     "start_time": "2023-07-12T08:57:06.690136",
     "status": "completed"
    },
    "tags": []
   },
   "outputs": [
    {
     "data": {
      "text/html": [
       "<div class=\"section\">Distribution of #Characters</div>"
      ],
      "text/plain": [
       "<IPython.core.display.HTML object>"
      ]
     },
     "metadata": {},
     "output_type": "display_data"
    },
    {
     "data": {
      "text/html": [],
      "text/plain": [
       "<IPython.core.display.HTML object>"
      ]
     },
     "metadata": {},
     "output_type": "display_data"
    },
    {
     "data": {
      "text/html": [
       "<div>\n",
       "<style scoped>\n",
       "    .dataframe tbody tr th:only-of-type {\n",
       "        vertical-align: middle;\n",
       "    }\n",
       "\n",
       "    .dataframe tbody tr th {\n",
       "        vertical-align: top;\n",
       "    }\n",
       "\n",
       "    .dataframe thead th {\n",
       "        text-align: right;\n",
       "    }\n",
       "</style>\n",
       "<table border=\"1\" class=\"dataframe\">\n",
       "  <thead>\n",
       "    <tr style=\"text-align: right;\">\n",
       "      <th></th>\n",
       "      <th>prompt_length</th>\n",
       "      <th>A_length</th>\n",
       "      <th>B_length</th>\n",
       "      <th>C_length</th>\n",
       "      <th>D_length</th>\n",
       "      <th>E_length</th>\n",
       "    </tr>\n",
       "  </thead>\n",
       "  <tbody>\n",
       "    <tr>\n",
       "      <th>count</th>\n",
       "      <td>200.000000</td>\n",
       "      <td>200.000000</td>\n",
       "      <td>200.000000</td>\n",
       "      <td>200.000000</td>\n",
       "      <td>200.000000</td>\n",
       "      <td>200.000000</td>\n",
       "    </tr>\n",
       "    <tr>\n",
       "      <th>mean</th>\n",
       "      <td>72.265000</td>\n",
       "      <td>162.535000</td>\n",
       "      <td>164.295000</td>\n",
       "      <td>165.305000</td>\n",
       "      <td>160.615000</td>\n",
       "      <td>162.105000</td>\n",
       "    </tr>\n",
       "    <tr>\n",
       "      <th>std</th>\n",
       "      <td>41.615068</td>\n",
       "      <td>104.448582</td>\n",
       "      <td>110.980998</td>\n",
       "      <td>104.609357</td>\n",
       "      <td>102.836196</td>\n",
       "      <td>105.584727</td>\n",
       "    </tr>\n",
       "    <tr>\n",
       "      <th>min</th>\n",
       "      <td>19.000000</td>\n",
       "      <td>1.000000</td>\n",
       "      <td>2.000000</td>\n",
       "      <td>2.000000</td>\n",
       "      <td>1.000000</td>\n",
       "      <td>2.000000</td>\n",
       "    </tr>\n",
       "    <tr>\n",
       "      <th>25%</th>\n",
       "      <td>39.000000</td>\n",
       "      <td>87.500000</td>\n",
       "      <td>82.000000</td>\n",
       "      <td>87.000000</td>\n",
       "      <td>89.750000</td>\n",
       "      <td>83.250000</td>\n",
       "    </tr>\n",
       "    <tr>\n",
       "      <th>50%</th>\n",
       "      <td>64.000000</td>\n",
       "      <td>140.500000</td>\n",
       "      <td>150.500000</td>\n",
       "      <td>154.500000</td>\n",
       "      <td>140.000000</td>\n",
       "      <td>143.000000</td>\n",
       "    </tr>\n",
       "    <tr>\n",
       "      <th>75%</th>\n",
       "      <td>92.250000</td>\n",
       "      <td>233.250000</td>\n",
       "      <td>221.750000</td>\n",
       "      <td>224.750000</td>\n",
       "      <td>231.000000</td>\n",
       "      <td>224.750000</td>\n",
       "    </tr>\n",
       "    <tr>\n",
       "      <th>max</th>\n",
       "      <td>277.000000</td>\n",
       "      <td>472.000000</td>\n",
       "      <td>662.000000</td>\n",
       "      <td>530.000000</td>\n",
       "      <td>450.000000</td>\n",
       "      <td>587.000000</td>\n",
       "    </tr>\n",
       "  </tbody>\n",
       "</table>\n",
       "</div>"
      ],
      "text/plain": [
       "       prompt_length    A_length    B_length    C_length    D_length  \\\n",
       "count     200.000000  200.000000  200.000000  200.000000  200.000000   \n",
       "mean       72.265000  162.535000  164.295000  165.305000  160.615000   \n",
       "std        41.615068  104.448582  110.980998  104.609357  102.836196   \n",
       "min        19.000000    1.000000    2.000000    2.000000    1.000000   \n",
       "25%        39.000000   87.500000   82.000000   87.000000   89.750000   \n",
       "50%        64.000000  140.500000  150.500000  154.500000  140.000000   \n",
       "75%        92.250000  233.250000  221.750000  224.750000  231.000000   \n",
       "max       277.000000  472.000000  662.000000  530.000000  450.000000   \n",
       "\n",
       "         E_length  \n",
       "count  200.000000  \n",
       "mean   162.105000  \n",
       "std    105.584727  \n",
       "min      2.000000  \n",
       "25%     83.250000  \n",
       "50%    143.000000  \n",
       "75%    224.750000  \n",
       "max    587.000000  "
      ]
     },
     "execution_count": 18,
     "metadata": {},
     "output_type": "execute_result"
    }
   ],
   "source": [
    "render_elem(\"Distribution of #Characters\", \"section\")\n",
    "data[\"prompt_length\"] = data[\"prompt\"].apply(len)\n",
    "data[\"A_length\"] = data[\"A\"].apply(len)\n",
    "data[\"B_length\"] = data[\"B\"].apply(len)\n",
    "data[\"C_length\"] = data[\"C\"].apply(len)\n",
    "data[\"D_length\"] = data[\"D\"].apply(len)\n",
    "data[\"E_length\"] = data[\"E\"].apply(len)\n",
    "\n",
    "length_data = data[\n",
    "    [\"prompt_length\", \"A_length\", \"B_length\", \"C_length\", \"D_length\", \"E_length\"]\n",
    "]\n",
    "\n",
    "length_summary = length_data.describe()\n",
    "\n",
    "length_summary\n",
    "# #字符的分布"
   ]
  },
  {
   "cell_type": "code",
   "execution_count": 20,
   "id": "d6c052a1",
   "metadata": {
    "_kg_hide-input": true,
    "papermill": {
     "duration": 0.422312,
     "end_time": "2023-07-12T08:57:07.191554",
     "exception": false,
     "start_time": "2023-07-12T08:57:06.769242",
     "status": "completed"
    },
    "tags": []
   },
   "outputs": [
    {
     "data": {
      "image/png": "[encoded data removed]",
      "text/plain": [
       "<Figure size 1200x800 with 1 Axes>"
      ]
     },
     "metadata": {},
     "output_type": "display_data"
    },
    {
     "data": {
      "text/html": [
       "<ul class=\"bullet\"><li class=\"insight\"> - GPT-3 prompt used may have prompt average 80 characters</li></ul><ul class=\"bullet\"><li class=\"insight\"> - GPT-3 prompt used may have options average 120 to 250 characters</li></ul>"
      ],
      "text/plain": [
       "<IPython.core.display.HTML object>"
      ]
     },
     "metadata": {},
     "output_type": "display_data"
    }
   ],
   "source": [
    "length_data_melted = length_data.melt(var_name=\"columns\", value_name=\"character_count\")\n",
    "\n",
    "plt.figure(figsize=(12, 8))\n",
    "sns.boxplot(x=\"columns\", y=\"character_count\", data=length_data_melted)\n",
    "plt.title(\"Character Count Distribution for Prompts and Answer Choices\")\n",
    "plt.xlabel(\"Columns\")\n",
    "plt.ylabel(\"Character Count\")\n",
    "plt.show()\n",
    "render_elem(\n",
    "    [\n",
    "        \"GPT-3 prompt used may have prompt average 80 characters\",\n",
    "        \"GPT-3 prompt used may have options average 120 to 250 characters\",\n",
    "    ],\n",
    "    \"insight\",\n",
    ")\n",
    "# \"GPT-3使用的提示可能平均有80个字符\",\n",
    "# \"GPT-3使用的选项可能平均有120到250个字符\""
   ]
  },
  {
   "cell_type": "code",
   "execution_count": 9,
   "id": "085831c3",
   "metadata": {
    "_kg_hide-input": true,
    "papermill": {
     "duration": 0.069205,
     "end_time": "2023-07-12T08:57:07.271358",
     "exception": false,
     "start_time": "2023-07-12T08:57:07.202153",
     "status": "completed"
    },
    "tags": []
   },
   "outputs": [
    {
     "data": {
      "text/html": [
       "<div class=\"section\">Distribution of #Words</div>"
      ],
      "text/plain": [
       "<IPython.core.display.HTML object>"
      ]
     },
     "metadata": {},
     "output_type": "display_data"
    },
    {
     "data": {
      "text/html": [],
      "text/plain": [
       "<IPython.core.display.HTML object>"
      ]
     },
     "metadata": {},
     "output_type": "display_data"
    },
    {
     "data": {
      "text/html": [
       "<div>\n",
       "<style scoped>\n",
       "    .dataframe tbody tr th:only-of-type {\n",
       "        vertical-align: middle;\n",
       "    }\n",
       "\n",
       "    .dataframe tbody tr th {\n",
       "        vertical-align: top;\n",
       "    }\n",
       "\n",
       "    .dataframe thead th {\n",
       "        text-align: right;\n",
       "    }\n",
       "</style>\n",
       "<table border=\"1\" class=\"dataframe\">\n",
       "  <thead>\n",
       "    <tr style=\"text-align: right;\">\n",
       "      <th></th>\n",
       "      <th>prompt_word_count</th>\n",
       "      <th>A_word_count</th>\n",
       "      <th>B_word_count</th>\n",
       "      <th>C_word_count</th>\n",
       "      <th>D_word_count</th>\n",
       "      <th>E_word_count</th>\n",
       "    </tr>\n",
       "  </thead>\n",
       "  <tbody>\n",
       "    <tr>\n",
       "      <th>count</th>\n",
       "      <td>200.000000</td>\n",
       "      <td>200.000000</td>\n",
       "      <td>200.000000</td>\n",
       "      <td>200.000000</td>\n",
       "      <td>200.000000</td>\n",
       "      <td>200.000000</td>\n",
       "    </tr>\n",
       "    <tr>\n",
       "      <th>mean</th>\n",
       "      <td>11.360000</td>\n",
       "      <td>25.965000</td>\n",
       "      <td>26.205000</td>\n",
       "      <td>26.300000</td>\n",
       "      <td>25.765000</td>\n",
       "      <td>25.950000</td>\n",
       "    </tr>\n",
       "    <tr>\n",
       "      <th>std</th>\n",
       "      <td>6.321408</td>\n",
       "      <td>16.994051</td>\n",
       "      <td>18.144118</td>\n",
       "      <td>16.989799</td>\n",
       "      <td>16.854082</td>\n",
       "      <td>17.449352</td>\n",
       "    </tr>\n",
       "    <tr>\n",
       "      <th>min</th>\n",
       "      <td>3.000000</td>\n",
       "      <td>1.000000</td>\n",
       "      <td>1.000000</td>\n",
       "      <td>1.000000</td>\n",
       "      <td>1.000000</td>\n",
       "      <td>1.000000</td>\n",
       "    </tr>\n",
       "    <tr>\n",
       "      <th>25%</th>\n",
       "      <td>6.000000</td>\n",
       "      <td>13.000000</td>\n",
       "      <td>12.750000</td>\n",
       "      <td>14.000000</td>\n",
       "      <td>14.000000</td>\n",
       "      <td>13.000000</td>\n",
       "    </tr>\n",
       "    <tr>\n",
       "      <th>50%</th>\n",
       "      <td>10.000000</td>\n",
       "      <td>22.000000</td>\n",
       "      <td>23.000000</td>\n",
       "      <td>24.000000</td>\n",
       "      <td>22.000000</td>\n",
       "      <td>22.500000</td>\n",
       "    </tr>\n",
       "    <tr>\n",
       "      <th>75%</th>\n",
       "      <td>14.000000</td>\n",
       "      <td>37.000000</td>\n",
       "      <td>36.000000</td>\n",
       "      <td>36.000000</td>\n",
       "      <td>36.250000</td>\n",
       "      <td>36.250000</td>\n",
       "    </tr>\n",
       "    <tr>\n",
       "      <th>max</th>\n",
       "      <td>42.000000</td>\n",
       "      <td>81.000000</td>\n",
       "      <td>118.000000</td>\n",
       "      <td>82.000000</td>\n",
       "      <td>78.000000</td>\n",
       "      <td>105.000000</td>\n",
       "    </tr>\n",
       "  </tbody>\n",
       "</table>\n",
       "</div>"
      ],
      "text/plain": [
       "       prompt_word_count  A_word_count  B_word_count  C_word_count  \\\n",
       "count         200.000000    200.000000    200.000000    200.000000   \n",
       "mean           11.360000     25.965000     26.205000     26.300000   \n",
       "std             6.321408     16.994051     18.144118     16.989799   \n",
       "min             3.000000      1.000000      1.000000      1.000000   \n",
       "25%             6.000000     13.000000     12.750000     14.000000   \n",
       "50%            10.000000     22.000000     23.000000     24.000000   \n",
       "75%            14.000000     37.000000     36.000000     36.000000   \n",
       "max            42.000000     81.000000    118.000000     82.000000   \n",
       "\n",
       "       D_word_count  E_word_count  \n",
       "count    200.000000    200.000000  \n",
       "mean      25.765000     25.950000  \n",
       "std       16.854082     17.449352  \n",
       "min        1.000000      1.000000  \n",
       "25%       14.000000     13.000000  \n",
       "50%       22.000000     22.500000  \n",
       "75%       36.250000     36.250000  \n",
       "max       78.000000    105.000000  "
      ]
     },
     "execution_count": 9,
     "metadata": {},
     "output_type": "execute_result"
    }
   ],
   "source": [
    "render_elem(\"Distribution of #Words\", \"section\")\n",
    "\n",
    "\n",
    "def word_count(text):\n",
    "    return len(text.split())\n",
    "\n",
    "\n",
    "data[\"prompt_word_count\"] = data[\"prompt\"].apply(word_count)\n",
    "data[\"A_word_count\"] = data[\"A\"].apply(word_count)\n",
    "data[\"B_word_count\"] = data[\"B\"].apply(word_count)\n",
    "data[\"C_word_count\"] = data[\"C\"].apply(word_count)\n",
    "data[\"D_word_count\"] = data[\"D\"].apply(word_count)\n",
    "data[\"E_word_count\"] = data[\"E\"].apply(word_count)\n",
    "\n",
    "word_count_data = data[\n",
    "    [\n",
    "        \"prompt_word_count\",\n",
    "        \"A_word_count\",\n",
    "        \"B_word_count\",\n",
    "        \"C_word_count\",\n",
    "        \"D_word_count\",\n",
    "        \"E_word_count\",\n",
    "    ]\n",
    "]\n",
    "\n",
    "word_count_summary = word_count_data.describe()\n",
    "\n",
    "word_count_summary"
   ]
  },
  {
   "cell_type": "code",
   "execution_count": 21,
   "id": "fd2f1d55",
   "metadata": {
    "_kg_hide-input": true,
    "papermill": {
     "duration": 0.40581,
     "end_time": "2023-07-12T08:57:07.688802",
     "exception": false,
     "start_time": "2023-07-12T08:57:07.282992",
     "status": "completed"
    },
    "tags": []
   },
   "outputs": [
    {
     "data": {
      "image/png": "[encoded data removed]",
      "text/plain": [
       "<Figure size 1200x800 with 1 Axes>"
      ]
     },
     "metadata": {},
     "output_type": "display_data"
    },
    {
     "data": {
      "text/html": [
       "<ul class=\"bullet\"><li class=\"insight\"> - GPT-3 prompt used may have prompt average 10 words</li></ul><ul class=\"bullet\"><li class=\"insight\"> - GPT-3 prompt used may have options average 20 to 40 characters</li></ul>"
      ],
      "text/plain": [
       "<IPython.core.display.HTML object>"
      ]
     },
     "metadata": {},
     "output_type": "display_data"
    }
   ],
   "source": [
    "word_count_melted = word_count_data.melt(var_name=\"columns\", value_name=\"word_count\")\n",
    "plt.figure(figsize=(12, 8))\n",
    "sns.boxplot(x=\"columns\", y=\"word_count\", data=word_count_melted)\n",
    "plt.title(\"Word Count Distribution for Prompts and Answer Choices\")\n",
    "plt.xlabel(\"Columns\")\n",
    "plt.ylabel(\"Word Count\")\n",
    "plt.show()\n",
    "render_elem(\n",
    "    [\n",
    "        \"GPT-3 prompt used may have prompt average 10 words\",\n",
    "        \"GPT-3 prompt used may have options average 20 to 40 characters\",\n",
    "    ],\n",
    "    \"insight\",\n",
    ")\n",
    "# \"GPT-3使用的提示平均约有10个单词\"\n",
    "# \"GPT-3使用的选项平均约有20到40个字符\""
   ]
  },
  {
   "cell_type": "code",
   "execution_count": null,
   "id": "7a3a9606-4964-439d-b9e6-4e7ca986b788",
   "metadata": {},
   "outputs": [],
   "source": []
  }
 ],
 "metadata": {
  "kernelspec": {
   "display_name": "Python 3 (ipykernel)",
   "language": "python",
   "name": "python3"
  },
  "language_info": {
   "codemirror_mode": {
    "name": "ipython",
    "version": 3
   },
   "file_extension": ".py",
   "mimetype": "text/x-python",
   "name": "python",
   "nbconvert_exporter": "python",
   "pygments_lexer": "ipython3",
   "version": "3.8.10"
  },
  "papermill": {
   "default_parameters": {},
   "duration": 18.885464,
   "end_time": "2023-07-12T08:57:08.865353",
   "environment_variables": {},
   "exception": null,
   "input_path": "__notebook__.ipynb",
   "output_path": "__notebook__.ipynb",
   "parameters": {},
   "start_time": "2023-07-12T08:56:49.979889",
   "version": "2.4.0"
  }
 },
 "nbformat": 4,
 "nbformat_minor": 5
}
